{
 "cells": [
  {
   "cell_type": "code",
   "execution_count": null,
   "id": "50b2afc1",
   "metadata": {},
   "outputs": [],
   "source": [
    "class schedule():\n",
    "    def __init__(self, startTime, endTime, price):\n",
    "        self.startTime = startTime\n",
    "        self.endTime = endTime\n",
    "        self.price = price"
   ]
  },
  {
   "cell_type": "code",
   "execution_count": null,
   "id": "1e27716e",
   "metadata": {},
   "outputs": [],
   "source": [
    "def insert_schedule_data():\n",
    "    temp = input().split(' ')\n",
    "    temp = schedule(int(temp[0]),int(temp[1]),int(temp[2]))\n",
    "    data.append(temp)"
   ]
  },
  {
   "cell_type": "code",
   "execution_count": null,
   "id": "2a17af81",
   "metadata": {},
   "outputs": [],
   "source": [
    "# for searching the max possible sum we will use dynamic programming as we learned in algo2\n",
    "def dynamic_max(bookings):\n",
    "    sumOfI = [data[i].price for i in range(bookings)] # list of all the prices after sorting\n",
    "    for i in range(1,bookings):\n",
    "        for j in range(i-1,-1,-1): # j will be the sum of i-1 for comparing\n",
    "            if data[j].endTime <= data[i].startTime:\n",
    "                if sumOfI[i] < (sumOfI[j] + data[i].price):\n",
    "                    sumOfI[i] = sumOfI[j] + data[i].price\n",
    "    return max(sumOfI)"
   ]
  },
  {
   "cell_type": "code",
   "execution_count": null,
   "id": "5f3c2dd6",
   "metadata": {},
   "outputs": [],
   "source": [
    "def car_spark():\n",
    "    bookings = int(input())\n",
    "    for _ in range(bookings):\n",
    "        insert_schedule_data()\n",
    "    data.sort(key= lambda x: x.endTime) # sorting the data by the endTime as we learned in algo2\n",
    "    print(dynamic_max(bookings))"
   ]
  },
  {
   "cell_type": "code",
   "execution_count": null,
   "id": "04db0eb7",
   "metadata": {},
   "outputs": [],
   "source": [
    "tests = int(input())\n",
    "\n",
    "for _ in range(tests):\n",
    "    data=[]\n",
    "    car_spark()"
   ]
  }
 ],
 "metadata": {
  "kernelspec": {
   "display_name": "Python 3",
   "language": "python",
   "name": "python3"
  },
  "language_info": {
   "codemirror_mode": {
    "name": "ipython",
    "version": 3
   },
   "file_extension": ".py",
   "mimetype": "text/x-python",
   "name": "python",
   "nbconvert_exporter": "python",
   "pygments_lexer": "ipython3",
   "version": "3.8.8"
  }
 },
 "nbformat": 4,
 "nbformat_minor": 5
}
