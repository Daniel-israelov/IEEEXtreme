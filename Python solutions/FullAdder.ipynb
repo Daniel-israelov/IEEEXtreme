{
 "cells": [
  {
   "cell_type": "code",
   "execution_count": null,
   "id": "9764497e",
   "metadata": {},
   "outputs": [],
   "source": [
    "def full_adder(base, symbols, upper_num, lower_num, dashes):\n",
    "    symbols_map = {}\n",
    "    symbols_map[' '] = 0 #setting the value of whitespace at the beginning to 0\n",
    "\n",
    "    #assigning value to each character\n",
    "    for i, symbol in enumerate(symbols):\n",
    "        symbols_map[symbol] = i\n",
    "    \n",
    "    keys = list(symbols_map.keys()) #keys are the \"digits\" characters\n",
    "    values = list(symbols_map.values()) #decimal value for each \"digit\"\n",
    "    sub_total = ''\n",
    "    carry = 0\n",
    "\n",
    "    #starting the calculation from the end\n",
    "    for i in range(len(upper_num) - 1, 0, -1):\n",
    "        upper_dig = symbols_map[upper_num[i]]\n",
    "        lower_dig = symbols_map[lower_num[i]]\n",
    "        temp_sum  = lower_dig + upper_dig + carry\n",
    "    \n",
    "        carry = temp_sum//base\n",
    "        temp_num = temp_sum % base\n",
    "        \n",
    "        if temp_num == 0: # in case that base=2\n",
    "            sub_total += keys[values.index(temp_num)+1]\n",
    "        else:\n",
    "            sub_total += keys[values.index(temp_num)]\n",
    "\n",
    "    if carry == 1: #if theres a carry after calculating has finished\n",
    "        sub_total += keys[values.index(1)]\n",
    "    sub_total += ' '\n",
    "    return sub_total\n",
    "\n",
    "def print_result(base, symbols, upper_num, lower_num, dashes, total):\n",
    "    print(base, symbols)\n",
    "    print(upper_num)\n",
    "    print(lower_num)\n",
    "    print(dashes)\n",
    "    print(total[::-1])#reverse printing the result\n",
    "\n",
    "def main():\n",
    "    base, symbols = input().split(' ')\n",
    "    upper_num = input()\n",
    "    lower_num = input()\n",
    "    dashes = input()\n",
    "    base = int(base)\n",
    "    \n",
    "    total = full_adder(base, symbols, upper_num, lower_num, dashes)\n",
    "    print_result(base, symbols, upper_num, lower_num, dashes, total)\n",
    "\n",
    "if __name__ == \"__main__\":\n",
    "    main()"
   ]
  }
 ],
 "metadata": {
  "kernelspec": {
   "display_name": "Python 3",
   "language": "python",
   "name": "python3"
  },
  "language_info": {
   "codemirror_mode": {
    "name": "ipython",
    "version": 3
   },
   "file_extension": ".py",
   "mimetype": "text/x-python",
   "name": "python",
   "nbconvert_exporter": "python",
   "pygments_lexer": "ipython3",
   "version": "3.8.8"
  }
 },
 "nbformat": 4,
 "nbformat_minor": 5
}
