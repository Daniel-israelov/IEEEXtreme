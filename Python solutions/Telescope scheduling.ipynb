{
 "cells": [
  {
   "cell_type": "code",
   "execution_count": null,
   "id": "ea645fb3",
   "metadata": {},
   "outputs": [],
   "source": [
    "class schedule():\n",
    "    def __init__(self, startTime, endTime, price):\n",
    "        self.startTime = startTime\n",
    "        self.endTime = endTime\n",
    "        self.price = price"
   ]
  },
  {
   "cell_type": "code",
   "execution_count": null,
   "id": "71bcce35",
   "metadata": {},
   "outputs": [],
   "source": [
    "def insert_schedule_data():\n",
    "    temp = input().split(' ')\n",
    "    temp = schedule(int(temp[0]),int(temp[1]),int(temp[2]))\n",
    "    data.append(temp)"
   ]
  },
  {
   "cell_type": "code",
   "execution_count": null,
   "id": "b55f521a",
   "metadata": {},
   "outputs": [],
   "source": [
    "# for searching the max possible sum we will use dynamic programming as we learned in algo2\n",
    "def dynamic_max():\n",
    "    sumOfI = [data[i].price for i in range(len(data))] # list of all the prices after sorting\n",
    "    for i in range(1,len(data)):\n",
    "        for j in range(i-1,-1,-1): # j will be the sum of i-1 for comparing\n",
    "            if data[j].endTime < data[i].startTime:\n",
    "                if sumOfI[i] < (sumOfI[j] + data[i].price):\n",
    "                    sumOfI[i] = sumOfI[j] + data[i].price\n",
    "    return max(sumOfI)"
   ]
  },
  {
   "cell_type": "code",
   "execution_count": null,
   "id": "f1c16513",
   "metadata": {},
   "outputs": [],
   "source": [
    "def Telescope_Scheduling():\n",
    "    stars = int(input())\n",
    "    for _ in range(stars):\n",
    "        insert_schedule_data()\n",
    "    data.sort(key= lambda x: x.endTime) # sorting the data by the endTime as we learned in algo2\n",
    "    print(dynamic_max())"
   ]
  },
  {
   "cell_type": "code",
   "execution_count": null,
   "id": "5497c309",
   "metadata": {},
   "outputs": [],
   "source": [
    "data=[]\n",
    "Telescope_Scheduling()"
   ]
  }
 ],
 "metadata": {
  "kernelspec": {
   "display_name": "Python 3",
   "language": "python",
   "name": "python3"
  },
  "language_info": {
   "codemirror_mode": {
    "name": "ipython",
    "version": 3
   },
   "file_extension": ".py",
   "mimetype": "text/x-python",
   "name": "python",
   "nbconvert_exporter": "python",
   "pygments_lexer": "ipython3",
   "version": "3.8.8"
  }
 },
 "nbformat": 4,
 "nbformat_minor": 5
}
