{
 "cells": [
  {
   "cell_type": "code",
   "execution_count": 1,
   "id": "4fbe2bcf",
   "metadata": {},
   "outputs": [],
   "source": [
    "from random import randint"
   ]
  },
  {
   "cell_type": "code",
   "execution_count": 2,
   "id": "5dc6de17",
   "metadata": {},
   "outputs": [],
   "source": [
    "def twoSum(primes, n):\n",
    "    for prime in primes:\n",
    "        if n - prime in primes:\n",
    "            return prime, n - prime\n",
    "    return None"
   ]
  },
  {
   "cell_type": "code",
   "execution_count": 3,
   "id": "f369c080",
   "metadata": {},
   "outputs": [],
   "source": [
    "# Sieve of Eratosthenes\n",
    "def eratosthenes(n):\n",
    "    is_prime = [0, 0] + [1]*(n - 2)\n",
    "    i = 2\n",
    "    while i * i <= n:\n",
    "        if is_prime[i] == 0:\n",
    "            i += 1\n",
    "        else:\n",
    "            j = 2 * i\n",
    "            while j < n:\n",
    "                is_prime[j] = 0\n",
    "                j += i\n",
    "            i += 1\n",
    "    return {i for i, x in enumerate(is_prime) if x}"
   ]
  },
  {
   "cell_type": "code",
   "execution_count": 4,
   "id": "e8d0aed1",
   "metadata": {},
   "outputs": [],
   "source": [
    "# miller-rabin\n",
    "def isPrime(n, k=5):\n",
    "    if n < 2: \n",
    "        return False\n",
    "    \n",
    "    for prime in [2, 3, 5, 7, 11, 13, 17, 19, 23, 29]:\n",
    "        if n % prime == 0: \n",
    "            return n == prime\n",
    "        \n",
    "    s, d = 0, n-1\n",
    "    \n",
    "    while d % 2 == 0:\n",
    "        s, d = s+1, d//2\n",
    "        \n",
    "    for i in range(k):\n",
    "        x = pow(randint(2, n-1), d, n)\n",
    "        if x == 1 or x == n-1: \n",
    "            continue\n",
    "            \n",
    "        for r in range(1, s):\n",
    "            x = (x * x) % n\n",
    "            if x == 1: \n",
    "                return False\n",
    "            if x == n-1: \n",
    "                break\n",
    "        else: \n",
    "            return False\n",
    "    return True"
   ]
  },
  {
   "cell_type": "code",
   "execution_count": 5,
   "id": "79d65302",
   "metadata": {},
   "outputs": [],
   "source": [
    "def biggestPrime(n):\n",
    "    for i in range(n-4, 2, -2):\n",
    "        if isPrime(i):\n",
    "            return i\n",
    "    return 2"
   ]
  },
  {
   "cell_type": "code",
   "execution_count": 10,
   "id": "27e1bf98",
   "metadata": {},
   "outputs": [
    {
     "name": "stdout",
     "output_type": "stream",
     "text": [
      "997\n",
      "{2, 3, 5}\n",
      "991 3 3\n"
     ]
    }
   ],
   "source": [
    "def main():\n",
    "    n = int(input())\n",
    "    #closest prime to n that is lower than n\n",
    "    a = biggestPrime(n)\n",
    "    primes = eratosthenes(n-a)\n",
    "    b, c = twoSum(primes, n-a)\n",
    "    print(f\"{a} {b} {c}\")\n",
    "\n",
    "if __name__ == \"__main__\":\n",
    "    main()"
   ]
  }
 ],
 "metadata": {
  "kernelspec": {
   "display_name": "Python 3",
   "language": "python",
   "name": "python3"
  },
  "language_info": {
   "codemirror_mode": {
    "name": "ipython",
    "version": 3
   },
   "file_extension": ".py",
   "mimetype": "text/x-python",
   "name": "python",
   "nbconvert_exporter": "python",
   "pygments_lexer": "ipython3",
   "version": "3.8.8"
  }
 },
 "nbformat": 4,
 "nbformat_minor": 5
}
