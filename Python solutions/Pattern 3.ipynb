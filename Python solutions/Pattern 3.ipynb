{
 "cells": [
  {
   "cell_type": "code",
   "execution_count": 9,
   "id": "d25e46b4",
   "metadata": {},
   "outputs": [
    {
     "name": "stdout",
     "output_type": "stream",
     "text": [
      "1\n",
      "aabaabbaabaabbaabaabbaabaab\n",
      "7\n"
     ]
    }
   ],
   "source": [
    "# KMP\n",
    "def KMP(txt):\n",
    "    #longest prefix-suffix\n",
    "    lps = [0] * len(txt)\n",
    "    j = 0\n",
    "    \n",
    "    for i in range(1, len(txt)):\n",
    "        # backtrack j to the beginning of the last pattern found\n",
    "        while j > 0 and txt[j] != txt[i]:\n",
    "            j = lps[j - 1]\n",
    "            \n",
    "        if txt[j] == txt[i]:\n",
    "            j += 1\n",
    "        \n",
    "        # save the length of longest pattern\n",
    "        lps[i] = j\n",
    "        \n",
    "    # (i - j + 1) --> gives us the smallest length of the repeating pattern\n",
    "    # j is the longest pattern with repetition\n",
    "    print(i - j + 1)\n",
    "\n",
    "def main():\n",
    "    t = int(input())\n",
    "    for i in range(t):\n",
    "        text = input()\n",
    "        KMP(text)\n",
    "\n",
    "if __name__ == \"__main__\":\n",
    "    main()"
   ]
  }
 ],
 "metadata": {
  "kernelspec": {
   "display_name": "Python 3",
   "language": "python",
   "name": "python3"
  },
  "language_info": {
   "codemirror_mode": {
    "name": "ipython",
    "version": 3
   },
   "file_extension": ".py",
   "mimetype": "text/x-python",
   "name": "python",
   "nbconvert_exporter": "python",
   "pygments_lexer": "ipython3",
   "version": "3.8.8"
  }
 },
 "nbformat": 4,
 "nbformat_minor": 5
}
