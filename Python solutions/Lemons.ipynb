{
 "cells": [
  {
   "cell_type": "code",
   "execution_count": null,
   "id": "020d8930",
   "metadata": {},
   "outputs": [],
   "source": [
    "def solve(n,m,s):\n",
    "    # for 2 pumps he checks the second one\n",
    "    if n==2: \n",
    "        return m+s\n",
    "    \n",
    "    # for 3 pumps he needs to check them both (second and third)\n",
    "    if n==3:\n",
    "        return (m+s)*2\n",
    "    \n",
    "    # for more he should go the middle pump every time\n",
    "    res = (n//2)*m+s \n",
    "\n",
    "    # recursion with half of the pumps\n",
    "    return res + solve(n-(n//2),m,s) \n",
    "\n",
    "\n",
    "def main():    \n",
    "    N,M,S = [int(n) for n in input().split()]\n",
    "    print(solve(N,M,S))\n",
    "\n",
    "if __name__=='__main__':\n",
    "    main()"
   ]
  }
 ],
 "metadata": {
  "kernelspec": {
   "display_name": "Python 3",
   "language": "python",
   "name": "python3"
  },
  "language_info": {
   "codemirror_mode": {
    "name": "ipython",
    "version": 3
   },
   "file_extension": ".py",
   "mimetype": "text/x-python",
   "name": "python",
   "nbconvert_exporter": "python",
   "pygments_lexer": "ipython3",
   "version": "3.8.8"
  }
 },
 "nbformat": 4,
 "nbformat_minor": 5
}
