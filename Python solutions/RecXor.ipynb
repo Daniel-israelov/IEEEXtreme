{
 "cells": [
  {
   "cell_type": "code",
   "execution_count": 1,
   "id": "453fb7bd",
   "metadata": {},
   "outputs": [],
   "source": [
    "def recXor(cols, rows, n, d1, d2):\n",
    "    #because the matrix is sorted and starts with 'n',\n",
    "    #we can find the indices of d1, d2 using the following calculataions\n",
    "    d1_c = ((d1 - n) % cols) + 1  # d1 current col index\n",
    "    d2_c = ((d2 - n) % cols) + 1  # d2 current col index\n",
    "    \n",
    "    if d1_c > d2_c: #if d1 is top-right & d2 bottom-left \n",
    "        d1_c, d2_c = d2_c, d1_c #swap\n",
    "        d1 -= d2_c - d1_c #new d1 value\n",
    "        d2 += d2_c - d1_c #new d2 value\n",
    "    \n",
    "    cols_diff = d2_c - d1_c\n",
    "    \n",
    "    xor_head = xor_range(n-1, d1-1) \n",
    "    xor_tail = xor_range(d2, rows*cols+n-1)\n",
    "    xor_mid = 0\n",
    "    \n",
    "    while d1 < d2-cols_diff:\n",
    "        xor_mid = xor_mid ^ xor_range(d1+cols_diff, d1 + cols-1)\n",
    "        d1 = d1 + cols\n",
    "                \n",
    "    x = xor_head^xor_mid^xor_tail\n",
    "        \n",
    "    print(x)\n",
    "    \n",
    "def xor1(num):\n",
    "    if num%4==0:\n",
    "        return num\n",
    "    elif num%4==1:\n",
    "        return 1;\n",
    "    elif num%4==2:\n",
    "        return num+1\n",
    "    else:\n",
    "        return 0\n",
    "\n",
    "def xor_range(start, end):\n",
    "    return xor1(start)^xor1(end)"
   ]
  }
 ],
 "metadata": {
  "kernelspec": {
   "display_name": "Python 3",
   "language": "python",
   "name": "python3"
  },
  "language_info": {
   "codemirror_mode": {
    "name": "ipython",
    "version": 3
   },
   "file_extension": ".py",
   "mimetype": "text/x-python",
   "name": "python",
   "nbconvert_exporter": "python",
   "pygments_lexer": "ipython3",
   "version": "3.8.8"
  }
 },
 "nbformat": 4,
 "nbformat_minor": 5
}
