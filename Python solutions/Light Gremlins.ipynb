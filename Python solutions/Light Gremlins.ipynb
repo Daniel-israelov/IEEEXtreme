{
 "cells": [
  {
   "cell_type": "code",
   "execution_count": null,
   "id": "b1634ca9",
   "metadata": {},
   "outputs": [],
   "source": [
    "import itertools\n",
    "\n",
    "def LightGremlins(numOfSwitches,numOfGremlins,gremlingsP):\n",
    "    finalsum=0\n",
    "    multiByTwo = 1 # the multiples we need to do for getting the correct switches (every time)\n",
    "    for L in range(1,len(gremlingsP)+1): # running on the current subsets\n",
    "            currentSum = 0\n",
    "            for subset in itertools.combinations(gremlingsP,L): # all the possible combanation with the current length(L)\n",
    "                d=1 # the multiple of all the number in the current subset\n",
    "                for x in subset:\n",
    "                    if d > numOfSwitches:\n",
    "                        break\n",
    "                    d=d*int(x)\n",
    "                if d > numOfSwitches:\n",
    "                    continue\n",
    "                #calculating the number of switches that all the gremlins in the current subset touched together\n",
    "                n=numOfSwitches//d\n",
    "                # if there was a change in one of the switches we will add it to the current sum\n",
    "                if(n>0):\n",
    "                    currentSum = currentSum+n\n",
    "            # if after running all the possible combinations the length of L is 0 we can be sure that finalsum wont                                                                 # change because the multiple (d) is build from its numbers \n",
    "            currentSum = currentSum*multiByTwo\n",
    "            # -2 -> for the include exclude prinsiple\n",
    "            multiByTwo = multiByTwo*(-2)\n",
    "            finalsum = finalsum + currentSum\n",
    "            if currentSum == 0:\n",
    "                break\n",
    "    print(finalsum)\n",
    "\n",
    "tests=int(input())\n",
    "for test in range(tests):\n",
    "    data = input().split(' ')\n",
    "    LightGremlins(int(data[0]), int(data[1]), data[2:])"
   ]
  }
 ],
 "metadata": {
  "kernelspec": {
   "display_name": "Python 3",
   "language": "python",
   "name": "python3"
  },
  "language_info": {
   "codemirror_mode": {
    "name": "ipython",
    "version": 3
   },
   "file_extension": ".py",
   "mimetype": "text/x-python",
   "name": "python",
   "nbconvert_exporter": "python",
   "pygments_lexer": "ipython3",
   "version": "3.8.8"
  }
 },
 "nbformat": 4,
 "nbformat_minor": 5
}
